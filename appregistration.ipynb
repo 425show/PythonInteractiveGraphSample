{
 "cells": [
  {
   "cell_type": "code",
   "execution_count": 14,
   "source": [
    "from azure.identity import InteractiveBrowserCredential\r\n",
    "from msgraph.core import GraphClient\r\n",
    "import uuid\r\n",
    "import json\r\n",
    "\r\n",
    "broswer_credential = InteractiveBrowserCredential(client_id='7537790f-b619-4d30-a804-1c6b8b7f1523')\r\n",
    "graph_client = GraphClient(credential=broswer_credential)\r\n",
    "scopes = ['Application.ReadWrite.All', 'User.Read']"
   ],
   "outputs": [],
   "metadata": {}
  },
  {
   "cell_type": "code",
   "execution_count": null,
   "source": [
    "apiAppName='automation - Python API'\r\n",
    "apiIdentifier = f\"api://{uuid.uuid4()}\"\r\n",
    "permissionId = f\"{uuid.uuid4()}\";\r\n",
    "permissionName= 'api.read'\r\n",
    "\r\n",
    "body = {\r\n",
    "    'displayName': apiAppName,\r\n",
    "    'identifierUris': [\r\n",
    "        apiIdentifier           \r\n",
    "    ], \r\n",
    "    'api': {\r\n",
    "        'acceptMappedClaims': None,\r\n",
    "        'knownClientApplications': [],\r\n",
    "        'requestedAccessTokenVersion': 2,\r\n",
    "        'oauth2PermissionScopes': [\r\n",
    "            {\r\n",
    "                'id': permissionId,\r\n",
    "                'adminConsentDescription':'access the api as a reader',\r\n",
    "                'adminConsentDisplayName':'access the api as a reader',\r\n",
    "                'isEnabled': True,\r\n",
    "                'type': 'User',\r\n",
    "                'userConsentDescription': 'access the api as a reader',\r\n",
    "                'userConsentDisplayName': 'access the api as a reader',\r\n",
    "                'value':permissionName\r\n",
    "            }],\r\n",
    "        'preAuthorizedApplications':[]\r\n",
    "    }\r\n",
    "}\r\n",
    "\r\n",
    "result = graph_client.post('/applications',\r\n",
    "                data=json.dumps(body),\r\n",
    "                headers={'Content-Type': 'application/json'}\r\n",
    "                )\r\n",
    "appJson = json.dumps(result.json())\r\n",
    "application = json.loads(appJson)\r\n",
    "\r\n",
    "response = graph_client.get('/organization')\r\n",
    "tenantJson = json.dumps(response.json())\r\n",
    "tenant = json.loads(tenantJson)\r\n",
    "\r\n",
    "print(f\"Client Id: {application['appId']}\")\r\n",
    "print(f\"Domain: {application['publisherDomain']}\")\r\n",
    "print(f\"Tenant Id: {tenant['value'][0]['id']}\")"
   ],
   "outputs": [],
   "metadata": {}
  }
 ],
 "metadata": {
  "orig_nbformat": 4,
  "language_info": {
   "name": "python",
   "version": "3.9.0",
   "mimetype": "text/x-python",
   "codemirror_mode": {
    "name": "ipython",
    "version": 3
   },
   "pygments_lexer": "ipython3",
   "nbconvert_exporter": "python",
   "file_extension": ".py"
  },
  "kernelspec": {
   "name": "python3",
   "display_name": "Python 3.9.0 64-bit ('.venv': venv)"
  },
  "interpreter": {
   "hash": "0ffe9960e777287daadba6ae0ed6ff73bfc5541b5958023fa4d2d2771c268d71"
  }
 },
 "nbformat": 4,
 "nbformat_minor": 2
}